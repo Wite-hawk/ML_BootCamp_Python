{
 "cells": [
  {
   "attachments": {},
   "cell_type": "markdown",
   "metadata": {},
   "source": [
    "# Programming_assignment 5"
   ]
  },
  {
   "attachments": {},
   "cell_type": "markdown",
   "metadata": {},
   "source": [
    "# Q1\n"
   ]
  },
  {
   "cell_type": "code",
   "execution_count": 2,
   "metadata": {},
   "outputs": [
    {
     "name": "stdout",
     "output_type": "stream",
     "text": [
      "The LCM of 6 and 3 is: 6\n"
     ]
    }
   ],
   "source": [
    "def find_lcm(num1, num2):\n",
    "    max_num = max(num1, num2)\n",
    "    lcm = max_num\n",
    "\n",
    "    while True:\n",
    "        if lcm % num1 == 0 and lcm % num2 == 0:\n",
    "            break\n",
    "        lcm += max_num\n",
    "\n",
    "    return lcm\n",
    "\n",
    "\n",
    "num1 = int(input(\"Enter the first number: \"))\n",
    "num2 = int(input(\"Enter the second number: \"))\n",
    "\n",
    "lcm = find_lcm(num1, num2)\n",
    "\n",
    "print(\"The LCM of\", num1, \"and\", num2, \"is:\", lcm)\n",
    "\n",
    "# My input is 6 and 3"
   ]
  },
  {
   "attachments": {},
   "cell_type": "markdown",
   "metadata": {},
   "source": [
    "# Q2"
   ]
  },
  {
   "cell_type": "code",
   "execution_count": 3,
   "metadata": {},
   "outputs": [
    {
     "name": "stdout",
     "output_type": "stream",
     "text": [
      "The HCF of 6 and 3 is: 3\n"
     ]
    }
   ],
   "source": [
    "def find_hcf(num1, num2):\n",
    "    min_num = min(num1, num2)\n",
    "\n",
    "    hcf = 1 \n",
    "\n",
    "    for i in range(1, min_num + 1):\n",
    "        if num1 % i == 0 and num2 % i == 0:\n",
    "            hcf = i\n",
    "\n",
    "    return hcf\n",
    "\n",
    "num1 = int(input(\"Enter the first number: \"))\n",
    "num2 = int(input(\"Enter the second number: \"))\n",
    "\n",
    "hcf = find_hcf(num1, num2)\n",
    "\n",
    "print(\"The HCF of\", num1, \"and\", num2, \"is:\", hcf)\n",
    "\n",
    "# My input is 6 and 3"
   ]
  },
  {
   "attachments": {},
   "cell_type": "markdown",
   "metadata": {},
   "source": [
    "# Q3"
   ]
  },
  {
   "cell_type": "code",
   "execution_count": 10,
   "metadata": {},
   "outputs": [
    {
     "name": "stdout",
     "output_type": "stream",
     "text": [
      "Binary: 11\n",
      "Octal: 3\n",
      "Hexadecimal: 3\n"
     ]
    }
   ],
   "source": [
    "def decimal_to_binary(decimal):\n",
    "    return bin(decimal)[2:]\n",
    "\n",
    "\n",
    "def decimal_to_octal(decimal):\n",
    "    return oct(decimal)[2:]\n",
    "\n",
    "\n",
    "def decimal_to_hexadecimal(decimal):\n",
    "    return hex(decimal)[2:]\n",
    "\n",
    "decimal = int(input(\"Enter a decimal number: \"))\n",
    "\n",
    "binary = decimal_to_binary(decimal)\n",
    "print(\"Binary: \" + binary)\n",
    "\n",
    "octal = decimal_to_octal(decimal)\n",
    "print(\"Octal: \" + octal)\n",
    "\n",
    "hexadecimal = decimal_to_hexadecimal(decimal)\n",
    "print(\"Hexadecimal: \" + hexadecimal)\n",
    "\n",
    "# My input is 3"
   ]
  },
  {
   "attachments": {},
   "cell_type": "markdown",
   "metadata": {},
   "source": [
    "# Q4"
   ]
  },
  {
   "cell_type": "code",
   "execution_count": 12,
   "metadata": {},
   "outputs": [
    {
     "name": "stdout",
     "output_type": "stream",
     "text": [
      "The ASCII value of H is 72\n"
     ]
    }
   ],
   "source": [
    "char = input(\"Enter a character: \")\n",
    "\n",
    "ascii_value = ord(char)\n",
    "\n",
    "print(\"The ASCII value of\", char, \"is\", ascii_value)\n",
    "\n",
    "# My input is H\n"
   ]
  },
  {
   "attachments": {},
   "cell_type": "markdown",
   "metadata": {},
   "source": [
    "# Q5"
   ]
  },
  {
   "cell_type": "code",
   "execution_count": 13,
   "metadata": {},
   "outputs": [
    {
     "name": "stdout",
     "output_type": "stream",
     "text": [
      "Result: 8.333333333333334\n"
     ]
    }
   ],
   "source": [
    "# Function to add two numbers\n",
    "def add(num1, num2):\n",
    "    return num1 + num2\n",
    "\n",
    "# Function to subtract two numbers\n",
    "def subtract(num1, num2):\n",
    "    return num1 - num2\n",
    "\n",
    "# Function to multiply two numbers\n",
    "def multiply(num1, num2):\n",
    "    return num1 * num2\n",
    "\n",
    "# Function to divide two numbers\n",
    "def divide(num1, num2):\n",
    "    return num1 / num2\n",
    "\n",
    "# Prompt the user to enter two numbers and the operation choice\n",
    "num1 = float(input(\"Enter the first number: \"))\n",
    "num2 = float(input(\"Enter the second number: \"))\n",
    "operation = input(\"Enter the operation (+, -, *, /): \")\n",
    "\n",
    "# Perform the selected operation\n",
    "if operation == \"+\":\n",
    "    result = add(num1, num2)\n",
    "elif operation == \"-\":\n",
    "    result = subtract(num1, num2)\n",
    "elif operation == \"*\":\n",
    "    result = multiply(num1, num2)\n",
    "elif operation == \"/\":\n",
    "    result = divide(num1, num2)\n",
    "else:\n",
    "    print(\"Invalid operation!\")\n",
    "\n",
    "# Display the result\n",
    "print(\"Result:\", result)\n",
    "\n",
    "# My input is 25/3"
   ]
  },
  {
   "cell_type": "code",
   "execution_count": null,
   "metadata": {},
   "outputs": [],
   "source": []
  }
 ],
 "metadata": {
  "kernelspec": {
   "display_name": "Python 3",
   "language": "python",
   "name": "python3"
  },
  "language_info": {
   "codemirror_mode": {
    "name": "ipython",
    "version": 3
   },
   "file_extension": ".py",
   "mimetype": "text/x-python",
   "name": "python",
   "nbconvert_exporter": "python",
   "pygments_lexer": "ipython3",
   "version": "3.11.3"
  },
  "orig_nbformat": 4
 },
 "nbformat": 4,
 "nbformat_minor": 2
}
