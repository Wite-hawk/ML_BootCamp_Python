{
 "cells": [
  {
   "attachments": {},
   "cell_type": "markdown",
   "metadata": {},
   "source": [
    "# Programming_Assignment 22"
   ]
  },
  {
   "attachments": {},
   "cell_type": "markdown",
   "metadata": {},
   "source": [
    "# Q1"
   ]
  },
  {
   "cell_type": "code",
   "execution_count": 7,
   "metadata": {},
   "outputs": [
    {
     "name": "stdout",
     "output_type": "stream",
     "text": [
      "[3, 6, 9]\n",
      "[8]\n",
      "[]\n"
     ]
    }
   ],
   "source": [
    "def list_operation(x, y, n):\n",
    "    return [num for num in range(x, y+1) if num % n == 0]\n",
    "\n",
    "print(list_operation(1, 10, 3))  \n",
    "print(list_operation(7, 9, 2))  \n",
    "print(list_operation(15, 20, 7))  \n"
   ]
  },
  {
   "attachments": {},
   "cell_type": "markdown",
   "metadata": {},
   "source": [
    "# Q2"
   ]
  },
  {
   "cell_type": "code",
   "execution_count": 8,
   "metadata": {},
   "outputs": [
    {
     "name": "stdout",
     "output_type": "stream",
     "text": [
      "True\n",
      "False\n",
      "True\n",
      "False\n"
     ]
    }
   ],
   "source": [
    "def simon_says(list1, list2):\n",
    "    return list1[:-1] == list2[1:]\n",
    "\n",
    "\n",
    "print(simon_says([1, 2], [5, 1]))  \n",
    "print(simon_says([1, 2], [5, 5])) \n",
    "print(simon_says([1, 2, 3, 4, 5], [0, 1, 2, 3, 4]))  \n",
    "print(simon_says([1, 2, 3, 4, 5], [5, 5, 1, 2, 3]))  \n"
   ]
  },
  {
   "attachments": {},
   "cell_type": "markdown",
   "metadata": {},
   "source": [
    "# Q3"
   ]
  },
  {
   "cell_type": "code",
   "execution_count": 9,
   "metadata": {},
   "outputs": [
    {
     "name": "stdout",
     "output_type": "stream",
     "text": [
      "AMS\n",
      "CHLN\n",
      "CJMPRR\n"
     ]
    }
   ],
   "source": [
    "def society_name(names):\n",
    "    initials = [name[0] for name in names]\n",
    "    return ''.join(sorted(initials))\n",
    "\n",
    "\n",
    "print(society_name([\"Adam\", \"Sarah\", \"Malcolm\"]))  \n",
    "print(society_name([\"Harry\", \"Newt\", \"Luna\", \"Cho\"]))  \n",
    "print(society_name([\"Phoebe\", \"Chandler\", \"Rachel\", \"Ross\", \"Monica\", \"Joey\"])) \n"
   ]
  },
  {
   "attachments": {},
   "cell_type": "markdown",
   "metadata": {},
   "source": [
    "# Q4"
   ]
  },
  {
   "cell_type": "code",
   "execution_count": 10,
   "metadata": {},
   "outputs": [
    {
     "name": "stdout",
     "output_type": "stream",
     "text": [
      "True\n",
      "False\n",
      "False\n"
     ]
    }
   ],
   "source": [
    "def is_isogram(string):\n",
    "    lowercase_string = string.lower()\n",
    "    return len(lowercase_string) == len(set(lowercase_string))\n",
    "\n",
    "\n",
    "print(is_isogram(\"Algorism\"))  \n",
    "print(is_isogram(\"PasSword\"))  \n",
    "print(is_isogram(\"Consecutive\"))  \n"
   ]
  },
  {
   "attachments": {},
   "cell_type": "markdown",
   "metadata": {},
   "source": [
    "# Q5"
   ]
  },
  {
   "cell_type": "code",
   "execution_count": 11,
   "metadata": {},
   "outputs": [
    {
     "name": "stdout",
     "output_type": "stream",
     "text": [
      "True\n",
      "False\n",
      "True\n",
      "True\n"
     ]
    }
   ],
   "source": [
    "def is_in_order(string):\n",
    "    return string == ''.join(sorted(string))\n",
    "\n",
    "\n",
    "print(is_in_order(\"abc\"))  \n",
    "print(is_in_order(\"edabit\"))  \n",
    "print(is_in_order(\"123\")) \n",
    "print(is_in_order(\"xyzz\"))  \n"
   ]
  },
  {
   "cell_type": "code",
   "execution_count": null,
   "metadata": {},
   "outputs": [],
   "source": []
  }
 ],
 "metadata": {
  "kernelspec": {
   "display_name": "Python 3",
   "language": "python",
   "name": "python3"
  },
  "language_info": {
   "codemirror_mode": {
    "name": "ipython",
    "version": 3
   },
   "file_extension": ".py",
   "mimetype": "text/x-python",
   "name": "python",
   "nbconvert_exporter": "python",
   "pygments_lexer": "ipython3",
   "version": "3.11.3"
  },
  "orig_nbformat": 4
 },
 "nbformat": 4,
 "nbformat_minor": 2
}
