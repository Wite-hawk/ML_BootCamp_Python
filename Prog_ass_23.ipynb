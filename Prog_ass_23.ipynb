{
 "cells": [
  {
   "attachments": {},
   "cell_type": "markdown",
   "metadata": {},
   "source": [
    "# Programming_Assignment 23"
   ]
  },
  {
   "attachments": {},
   "cell_type": "markdown",
   "metadata": {},
   "source": [
    "# Q1"
   ]
  },
  {
   "cell_type": "code",
   "execution_count": 1,
   "metadata": {},
   "outputs": [
    {
     "name": "stdout",
     "output_type": "stream",
     "text": [
      "True\n",
      "False\n",
      "True\n",
      "False\n",
      "True\n"
     ]
    }
   ],
   "source": [
    "def is_symmetrical(num):\n",
    "    return str(num) == str(num)[::-1]\n",
    "\n",
    "\n",
    "print(is_symmetrical(7227))  \n",
    "print(is_symmetrical(12567))  \n",
    "print(is_symmetrical(44444444))  \n",
    "print(is_symmetrical(9939))  \n",
    "print(is_symmetrical(1112111))  \n"
   ]
  },
  {
   "attachments": {},
   "cell_type": "markdown",
   "metadata": {},
   "source": [
    "# Q2"
   ]
  },
  {
   "cell_type": "code",
   "execution_count": 2,
   "metadata": {},
   "outputs": [
    {
     "name": "stdout",
     "output_type": "stream",
     "text": [
      "6\n",
      "24\n",
      "0\n",
      "-20\n"
     ]
    }
   ],
   "source": [
    "def multiply_nums(nums):\n",
    "    num_list = [int(num) for num in nums.split(\", \")]\n",
    "    product = 1\n",
    "    for num in num_list:\n",
    "        product *= num\n",
    "    return product\n",
    "\n",
    "\n",
    "print(multiply_nums(\"2, 3\"))  \n",
    "print(multiply_nums(\"1, 2, 3, 4\"))  \n",
    "print(multiply_nums(\"54, 75, 453, 0\")) \n",
    "print(multiply_nums(\"10, -2\"))  \n"
   ]
  },
  {
   "attachments": {},
   "cell_type": "markdown",
   "metadata": {},
   "source": [
    "# Q3"
   ]
  },
  {
   "cell_type": "code",
   "execution_count": 3,
   "metadata": {},
   "outputs": [
    {
     "name": "stdout",
     "output_type": "stream",
     "text": [
      "811181\n",
      "416649\n",
      "9414\n"
     ]
    }
   ],
   "source": [
    "def square_digits(num):\n",
    "    return int(''.join(str(int(digit)**2) for digit in str(num)))\n",
    "\n",
    "\n",
    "print(square_digits(9119))  \n",
    "print(square_digits(2483))  \n",
    "print(square_digits(3212))  \n"
   ]
  },
  {
   "attachments": {},
   "cell_type": "markdown",
   "metadata": {},
   "source": [
    "# Q4"
   ]
  },
  {
   "cell_type": "code",
   "execution_count": 4,
   "metadata": {},
   "outputs": [
    {
     "name": "stdout",
     "output_type": "stream",
     "text": [
      "[1, 3, 5]\n",
      "[4]\n",
      "[5, 7, 8, 9, 10, 15]\n",
      "[1, 2, 3]\n"
     ]
    }
   ],
   "source": [
    "def setify(lst):\n",
    "    return list(set(lst))\n",
    "\n",
    "\n",
    "print(setify([1, 3, 3, 5, 5]))  \n",
    "print(setify([4, 4, 4, 4])) \n",
    "print(setify([5, 7, 8, 9, 10, 15]))  \n",
    "print(setify([3, 3, 3, 2, 1]))  \n"
   ]
  },
  {
   "attachments": {},
   "cell_type": "markdown",
   "metadata": {},
   "source": [
    "# Q5"
   ]
  },
  {
   "cell_type": "code",
   "execution_count": 5,
   "metadata": {},
   "outputs": [
    {
     "name": "stdout",
     "output_type": "stream",
     "text": [
      "3\n",
      "3\n",
      "6\n"
     ]
    }
   ],
   "source": [
    "def mean(num):\n",
    "    digits = [int(digit) for digit in str(num)]\n",
    "    return sum(digits) // len(digits)\n",
    "\n",
    "\n",
    "print(mean(42))  \n",
    "print(mean(12345)) \n",
    "print(mean(666))  \n"
   ]
  },
  {
   "cell_type": "code",
   "execution_count": null,
   "metadata": {},
   "outputs": [],
   "source": []
  }
 ],
 "metadata": {
  "kernelspec": {
   "display_name": "Python 3",
   "language": "python",
   "name": "python3"
  },
  "language_info": {
   "codemirror_mode": {
    "name": "ipython",
    "version": 3
   },
   "file_extension": ".py",
   "mimetype": "text/x-python",
   "name": "python",
   "nbconvert_exporter": "python",
   "pygments_lexer": "ipython3",
   "version": "3.11.3"
  },
  "orig_nbformat": 4
 },
 "nbformat": 4,
 "nbformat_minor": 2
}
