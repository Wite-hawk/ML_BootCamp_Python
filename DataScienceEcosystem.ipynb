{
  "nbformat": 4,
  "nbformat_minor": 0,
  "metadata": {
    "colab": {
      "provenance": []
    },
    "kernelspec": {
      "name": "python3",
      "display_name": "Python 3"
    },
    "language_info": {
      "name": "python"
    }
  },
  "cells": [
    {
      "cell_type": "markdown",
      "source": [
        "\n",
        "#  Data Science Tools and Ecosystem"
      ],
      "metadata": {
        "id": "Ta6BU6dkdUe1"
      }
    },
    {
      "cell_type": "markdown",
      "source": [
        "## In this notebook, Data Science Tools and Ecosystem are summarized."
      ],
      "metadata": {
        "id": "AikkEXAffB0V"
      }
    },
    {
      "cell_type": "markdown",
      "source": [
        "Some of the popular languages that Data Scientists use are:\n",
        "\n",
        "Ordered List:\n",
        "1. Python\n",
        "2. R\n",
        "3. SQL\n",
        "4. Julia (Optional)\n",
        "\n"
      ],
      "metadata": {
        "id": "dhOdORuLhMdN"
      }
    },
    {
      "cell_type": "markdown",
      "source": [
        "Some of the commonly used libraries used by Data Scientists include:\n",
        "\n",
        "Odered List:\n",
        "1. NumPy\n",
        "2. pandas\n",
        "3. scikit-learn\n",
        "4. TensorFlow (Optional)"
      ],
      "metadata": {
        "id": "CVgdCPxJhy8d"
      }
    },
    {
      "cell_type": "markdown",
      "source": [
        "| Data Science Tools |\n",
        "| ----------------- |\n",
        "| Jupyter Notebook  |\n",
        "| RStudio           |\n",
        "| PyCharm           |\n"
      ],
      "metadata": {
        "id": "mpHgjmjlirAR"
      }
    },
    {
      "cell_type": "markdown",
      "source": [
        "### Below are a few examples of evaluating arithmetic expressions in Python"
      ],
      "metadata": {
        "id": "5TwpLLR2ky6X"
      }
    },
    {
      "cell_type": "code",
      "source": [
        "# This a simple arithmetic expression to mutiply then add integers.\n",
        "\n",
        "(3*4)+5"
      ],
      "metadata": {
        "colab": {
          "base_uri": "https://localhost:8080/"
        },
        "id": "hJxxKjvihBsQ",
        "outputId": "3cc99788-d77d-4c63-9455-de795451282f"
      },
      "execution_count": 3,
      "outputs": [
        {
          "output_type": "execute_result",
          "data": {
            "text/plain": [
              "17"
            ]
          },
          "metadata": {},
          "execution_count": 3
        }
      ]
    },
    {
      "cell_type": "code",
      "source": [
        "# This will convert 200 minutes to hours by diving by 60.\n",
        "\n",
        "200/60\n"
      ],
      "metadata": {
        "colab": {
          "base_uri": "https://localhost:8080/"
        },
        "id": "znzPsSvglKeg",
        "outputId": "c511f320-31a0-4930-ca8c-6f017f4b61c9"
      },
      "execution_count": 4,
      "outputs": [
        {
          "output_type": "execute_result",
          "data": {
            "text/plain": [
              "3.3333333333333335"
            ]
          },
          "metadata": {},
          "execution_count": 4
        }
      ]
    },
    {
      "cell_type": "markdown",
      "source": [
        "## **Objectives:**\n",
        "\n",
        "\n",
        "*   python\n",
        "*   R\n",
        "*   Numpy\n",
        "*   Pandas\n",
        "*   Jupiter Notebook\n",
        "\n",
        "\n",
        "\n",
        "\n",
        "\n",
        "\n"
      ],
      "metadata": {
        "id": "SSZhpgh0ukey"
      }
    },
    {
      "cell_type": "markdown",
      "source": [
        "## Author\n",
        "Yaswanth Nalla"
      ],
      "metadata": {
        "id": "7KSu0pHBvWRi"
      }
    },
    {
      "cell_type": "code",
      "source": [],
      "metadata": {
        "id": "ehSjMwXblncZ"
      },
      "execution_count": null,
      "outputs": []
    }
  ]
}