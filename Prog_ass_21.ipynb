{
 "cells": [
  {
   "attachments": {},
   "cell_type": "markdown",
   "metadata": {},
   "source": [
    "# Programming_Assignment 21"
   ]
  },
  {
   "attachments": {},
   "cell_type": "markdown",
   "metadata": {},
   "source": [
    "# Q1"
   ]
  },
  {
   "cell_type": "code",
   "execution_count": 1,
   "metadata": {},
   "outputs": [
    {
     "name": "stdout",
     "output_type": "stream",
     "text": [
      "[6, 7, 8, 9, 1]\n",
      "[6, 3, 23, 17, 10]\n",
      "[10, 20, 42, 6]\n",
      "No list has been selected\n"
     ]
    }
   ],
   "source": [
    "def next_in_line(lst, num):\n",
    "    if lst:\n",
    "        lst.pop(0)  # Remove the first element\n",
    "        lst.append(num)  # Add the number to the end\n",
    "        return lst\n",
    "    else:\n",
    "        return \"No list has been selected\"\n",
    "\n",
    "\n",
    "print(next_in_line([5, 6, 7, 8, 9], 1))  \n",
    "print(next_in_line([7, 6, 3, 23, 17], 10))  \n",
    "print(next_in_line([1, 10, 20, 42], 6))  \n",
    "print(next_in_line([], 6))  \n"
   ]
  },
  {
   "attachments": {},
   "cell_type": "markdown",
   "metadata": {},
   "source": [
    "# Q2"
   ]
  },
  {
   "cell_type": "code",
   "execution_count": 2,
   "metadata": {},
   "outputs": [
    {
     "name": "stdout",
     "output_type": "stream",
     "text": [
      "65700\n",
      "62600\n"
     ]
    }
   ],
   "source": [
    "def get_budgets(lst):\n",
    "    budgets = [person[\"budget\"] for person in lst]\n",
    "    return sum(budgets)\n",
    "\n",
    "\n",
    "print(get_budgets([\n",
    "    {\"name\": \"John\", \"age\": 21, \"budget\": 23000},\n",
    "    {\"name\": \"Steve\", \"age\": 32, \"budget\": 40000},\n",
    "    {\"name\": \"Martin\", \"age\": 16, \"budget\": 2700}\n",
    "]))  \n",
    "\n",
    "print(get_budgets([\n",
    "    {\"name\": \"John\", \"age\": 21, \"budget\": 29000},\n",
    "    {\"name\": \"Steve\", \"age\": 32, \"budget\": 32000},\n",
    "    {\"name\": \"Martin\", \"age\": 16, \"budget\": 1600}\n",
    "]))\n"
   ]
  },
  {
   "attachments": {},
   "cell_type": "markdown",
   "metadata": {},
   "source": [
    "# Q3"
   ]
  },
  {
   "cell_type": "code",
   "execution_count": 3,
   "metadata": {},
   "outputs": [
    {
     "name": "stdout",
     "output_type": "stream",
     "text": [
      "ehllo\n",
      "abdeit\n",
      "acehkr\n",
      "eegk\n",
      "aacijprstv\n"
     ]
    }
   ],
   "source": [
    "def alphabet_soup(txt):\n",
    "    sorted_chars = sorted(txt)\n",
    "    return \"\".join(sorted_chars)\n",
    "\n",
    "\n",
    "print(alphabet_soup(\"hello\"))  \n",
    "print(alphabet_soup(\"edabit\"))  \n",
    "print(alphabet_soup(\"hacker\")) \n",
    "print(alphabet_soup(\"geek\"))  \n",
    "print(alphabet_soup(\"javascript\"))  \n"
   ]
  },
  {
   "attachments": {},
   "cell_type": "markdown",
   "metadata": {},
   "source": [
    "# Q4"
   ]
  },
  {
   "cell_type": "code",
   "execution_count": 4,
   "metadata": {},
   "outputs": [
    {
     "name": "stdout",
     "output_type": "stream",
     "text": [
      "18193.97\n",
      "105.0\n",
      "15399.26\n",
      "2007316.26\n"
     ]
    }
   ],
   "source": [
    "def compound_interest(p, t, r, n):\n",
    "    A = p * (1 + r/n) ** (n*t)\n",
    "    return round(A, 2)\n",
    "\n",
    "\n",
    "print(compound_interest(10000, 10, 0.06, 12)) \n",
    "print(compound_interest(100, 1, 0.05, 1)) \n",
    "print(compound_interest(3500, 15, 0.1, 4))  \n",
    "print(compound_interest(100000, 20, 0.15, 365))  \n"
   ]
  },
  {
   "attachments": {},
   "cell_type": "markdown",
   "metadata": {},
   "source": [
    "# Q5"
   ]
  },
  {
   "cell_type": "code",
   "execution_count": 5,
   "metadata": {},
   "outputs": [
    {
     "name": "stdout",
     "output_type": "stream",
     "text": [
      "[9, 2, 16]\n",
      "[81, 123]\n",
      "[10, 56, 20, 3]\n",
      "[True, 1]\n"
     ]
    }
   ],
   "source": [
    "def return_only_integer(lst):\n",
    "    return [num for num in lst if isinstance(num, int)]\n",
    "\n",
    "\n",
    "print(return_only_integer([9, 2, \"space\", \"car\", \"lion\", 16])) \n",
    "print(return_only_integer([\"hello\", 81, \"basketball\", 123, \"fox\"]))  \n",
    "print(return_only_integer([10, \"121\", 56, 20, \"car\", 3, \"lion\"]))  \n",
    "print(return_only_integer([\"String\", True, 3.3, 1]))  \n"
   ]
  },
  {
   "cell_type": "code",
   "execution_count": null,
   "metadata": {},
   "outputs": [],
   "source": []
  }
 ],
 "metadata": {
  "kernelspec": {
   "display_name": "Python 3",
   "language": "python",
   "name": "python3"
  },
  "language_info": {
   "codemirror_mode": {
    "name": "ipython",
    "version": 3
   },
   "file_extension": ".py",
   "mimetype": "text/x-python",
   "name": "python",
   "nbconvert_exporter": "python",
   "pygments_lexer": "ipython3",
   "version": "3.11.3"
  },
  "orig_nbformat": 4
 },
 "nbformat": 4,
 "nbformat_minor": 2
}
