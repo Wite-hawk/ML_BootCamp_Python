{
  "nbformat": 4,
  "nbformat_minor": 0,
  "metadata": {
    "colab": {
      "provenance": [],
      "authorship_tag": "ABX9TyN76H3s8h7sCSYRRxzg4KSy",
      "include_colab_link": true
    },
    "kernelspec": {
      "name": "python3",
      "display_name": "Python 3"
    },
    "language_info": {
      "name": "python"
    }
  },
  "cells": [
    {
      "cell_type": "markdown",
      "metadata": {
        "id": "view-in-github",
        "colab_type": "text"
      },
      "source": [
        "<a href=\"https://colab.research.google.com/github/Wite-hawk/ML_BootCamp_Python/blob/main/Python_Basics_21.ipynb\" target=\"_parent\"><img src=\"https://colab.research.google.com/assets/colab-badge.svg\" alt=\"Open In Colab\"/></a>"
      ]
    },
    {
      "cell_type": "markdown",
      "source": [
        "## :Assignment 21\n",
        "\n"
      ],
      "metadata": {
        "id": "hS-oGx_eSU9U"
      }
    },
    {
      "cell_type": "markdown",
      "source": [
        "# Q1"
      ],
      "metadata": {
        "id": "WI65PkXhSXEu"
      }
    },
    {
      "cell_type": "code",
      "source": [
        "from datetime import datetime\n",
        "\n",
        "current_date = datetime.now().strftime(\"%Y-%m-%d %H:%M:%S\")\n",
        "\n",
        "with open(\"today.txt\", \"a\") as file:\n",
        "    file.write(current_date + \"\\n\")\n"
      ],
      "metadata": {
        "id": "jkGk8m0gSA-c"
      },
      "execution_count": 3,
      "outputs": []
    },
    {
      "cell_type": "markdown",
      "source": [
        "# Q2"
      ],
      "metadata": {
        "id": "VVSMLUupSlPc"
      }
    },
    {
      "cell_type": "code",
      "source": [
        "with open(\"today.txt\", \"r\") as file:\n",
        "    today_string = file.read()\n"
      ],
      "metadata": {
        "id": "oKuhHI6XSEMg"
      },
      "execution_count": 7,
      "outputs": []
    },
    {
      "cell_type": "markdown",
      "source": [
        "# Q3"
      ],
      "metadata": {
        "id": "2ciFAZ8vSrMU"
      }
    },
    {
      "cell_type": "code",
      "source": [
        "from dateutil.parser import parse\n",
        "\n",
        "date_string = today_string.split()[0]\n",
        "parsed_date = parse(date_string).date()\n",
        "print(parsed_date)\n"
      ],
      "metadata": {
        "colab": {
          "base_uri": "https://localhost:8080/"
        },
        "id": "sAJJ5HS2SqJ_",
        "outputId": "dce08cfc-6a82-4b75-d729-99907fe7a80f"
      },
      "execution_count": 8,
      "outputs": [
        {
          "output_type": "stream",
          "name": "stdout",
          "text": [
            "2023-06-28\n"
          ]
        }
      ]
    },
    {
      "cell_type": "markdown",
      "source": [
        "# Q4"
      ],
      "metadata": {
        "id": "Ovdx2_1GSvbR"
      }
    },
    {
      "cell_type": "code",
      "source": [
        "import os\n",
        "\n",
        "current_directory = os.getcwd()\n",
        "\n",
        "files = os.listdir(current_directory)\n",
        "\n",
        "for file in files:\n",
        "    print(file)\n"
      ],
      "metadata": {
        "colab": {
          "base_uri": "https://localhost:8080/"
        },
        "id": "oPzVVmjdSuTQ",
        "outputId": "caebaf5e-f73a-47c2-b92c-d8a84f147aee"
      },
      "execution_count": 9,
      "outputs": [
        {
          "output_type": "stream",
          "name": "stdout",
          "text": [
            ".config\n",
            "today.txt\n",
            "sample_data\n"
          ]
        }
      ]
    },
    {
      "cell_type": "markdown",
      "source": [
        "# Q5"
      ],
      "metadata": {
        "id": "5BzFarQaSzS7"
      }
    },
    {
      "cell_type": "code",
      "source": [
        "import glob\n",
        "\n",
        "parent_directory = '..'\n",
        "\n",
        "pattern = os.path.join(parent_directory, '*')\n",
        "\n",
        "files = glob.glob(pattern)\n",
        "\n",
        "for file in files:\n",
        "    print(os.path.basename(file))\n"
      ],
      "metadata": {
        "colab": {
          "base_uri": "https://localhost:8080/"
        },
        "id": "MBgVCaSfSyde",
        "outputId": "a4745bce-11cf-4572-f5f7-84fa9d0534db"
      },
      "execution_count": 10,
      "outputs": [
        {
          "output_type": "stream",
          "name": "stdout",
          "text": [
            "run\n",
            "srv\n",
            "lib32\n",
            "var\n",
            "boot\n",
            "usr\n",
            "etc\n",
            "libx32\n",
            "root\n",
            "sys\n",
            "lib64\n",
            "media\n",
            "mnt\n",
            "bin\n",
            "dev\n",
            "proc\n",
            "tmp\n",
            "sbin\n",
            "home\n",
            "lib\n",
            "opt\n",
            "content\n",
            "datalab\n",
            "tools\n",
            "python-apt\n",
            "NGC-DL-CONTAINER-LICENSE\n"
          ]
        }
      ]
    },
    {
      "cell_type": "markdown",
      "source": [
        "# Q6"
      ],
      "metadata": {
        "id": "OiMwsmHSS4j6"
      }
    },
    {
      "cell_type": "code",
      "source": [
        "import multiprocessing\n",
        "import random\n",
        "import time\n",
        "from datetime import datetime\n",
        "\n",
        "def worker():\n",
        "    wait_time = random.randint(1, 5)\n",
        "    time.sleep(wait_time)\n",
        "    current_time = datetime.now().strftime(\"%Y-%m-%d %H:%M:%S\")\n",
        "    print(f\"Process {multiprocessing.current_process().name}: Current time - {current_time}\")\n",
        "\n",
        "if __name__ == \"__main__\":\n",
        "    processes = []\n",
        "\n",
        "    for i in range(3):\n",
        "        p = multiprocessing.Process(target=worker)\n",
        "        p.start()\n",
        "        processes.append(p)\n",
        "\n",
        "    for p in processes:\n",
        "        p.join()\n"
      ],
      "metadata": {
        "colab": {
          "base_uri": "https://localhost:8080/"
        },
        "id": "4tmbaNsCS2-7",
        "outputId": "8370dbc3-b079-40f1-ee98-d22ad0468dbf"
      },
      "execution_count": 11,
      "outputs": [
        {
          "output_type": "stream",
          "name": "stdout",
          "text": [
            "Process Process-3: Current time - 2023-06-28 13:57:50\n",
            "Process Process-1: Current time - 2023-06-28 13:57:51\n",
            "Process Process-2: Current time - 2023-06-28 13:57:53\n"
          ]
        }
      ]
    },
    {
      "cell_type": "markdown",
      "source": [
        "# Q7"
      ],
      "metadata": {
        "id": "aa7Ky6ZITIr8"
      }
    },
    {
      "cell_type": "code",
      "source": [
        "import datetime\n",
        "\n",
        "birthdate = datetime.date(2000, 5, 15)\n",
        "print(birthdate)\n"
      ],
      "metadata": {
        "colab": {
          "base_uri": "https://localhost:8080/"
        },
        "id": "76Dflc8dTChY",
        "outputId": "19c28996-ec96-48e8-b871-f101f8986808"
      },
      "execution_count": 13,
      "outputs": [
        {
          "output_type": "stream",
          "name": "stdout",
          "text": [
            "2000-05-15\n"
          ]
        }
      ]
    },
    {
      "cell_type": "markdown",
      "source": [
        "# Q8"
      ],
      "metadata": {
        "id": "erF_tvYuTSPJ"
      }
    },
    {
      "cell_type": "code",
      "source": [
        "weekday = birthdate.strftime('%A')\n",
        "\n",
        "print(weekday)"
      ],
      "metadata": {
        "colab": {
          "base_uri": "https://localhost:8080/"
        },
        "id": "0uO0ecimTPoJ",
        "outputId": "f09795ad-93cd-4783-f1f3-89fc432a8482"
      },
      "execution_count": 14,
      "outputs": [
        {
          "output_type": "stream",
          "name": "stdout",
          "text": [
            "Monday\n"
          ]
        }
      ]
    },
    {
      "cell_type": "markdown",
      "source": [
        "# Q9"
      ],
      "metadata": {
        "id": "CazmrW64TWEF"
      }
    },
    {
      "cell_type": "code",
      "source": [
        "\n",
        "ten_thousand_days = datetime.timedelta(days=10000)\n",
        "\n",
        "target_date = birthdate + ten_thousand_days\n",
        "\n",
        "print(target_date)\n"
      ],
      "metadata": {
        "colab": {
          "base_uri": "https://localhost:8080/"
        },
        "id": "sK44cHp0TVRt",
        "outputId": "add35292-b808-4278-c798-953afeffed38"
      },
      "execution_count": 15,
      "outputs": [
        {
          "output_type": "stream",
          "name": "stdout",
          "text": [
            "2027-10-01\n"
          ]
        }
      ]
    },
    {
      "cell_type": "code",
      "source": [],
      "metadata": {
        "id": "gLhPQ2PeTgGN"
      },
      "execution_count": null,
      "outputs": []
    }
  ]
}