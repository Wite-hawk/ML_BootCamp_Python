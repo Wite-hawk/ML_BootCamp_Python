{
 "cells": [
  {
   "attachments": {},
   "cell_type": "markdown",
   "metadata": {},
   "source": [
    "# Programming_Asignment 11"
   ]
  },
  {
   "attachments": {},
   "cell_type": "markdown",
   "metadata": {},
   "source": [
    "# Q1"
   ]
  },
  {
   "cell_type": "code",
   "execution_count": 1,
   "metadata": {},
   "outputs": [
    {
     "name": "stdout",
     "output_type": "stream",
     "text": [
      "Words longer than 5 characters: ['Python', 'program', 'greater', 'length']\n"
     ]
    }
   ],
   "source": [
    "def find_long_words(string, k):\n",
    "    words = string.split()\n",
    "    long_words = [word for word in words if len(word) > k]\n",
    "    return long_words\n",
    "\n",
    "sentence = \"Python program to find words which are greater than given length k\"\n",
    "length = 5\n",
    "result = find_long_words(sentence, length)\n",
    "print(f\"Words longer than {length} characters:\", result)\n"
   ]
  },
  {
   "attachments": {},
   "cell_type": "markdown",
   "metadata": {},
   "source": [
    "# Q2"
   ]
  },
  {
   "cell_type": "code",
   "execution_count": 2,
   "metadata": {},
   "outputs": [
    {
     "name": "stdout",
     "output_type": "stream",
     "text": [
      "String after removing character at index 2: Pyhon\n"
     ]
    }
   ],
   "source": [
    "def remove_character(string, i):\n",
    "    if i < 0 or i >= len(string):\n",
    "        return \"Invalid index\"\n",
    "    new_string = string[:i] + string[i+1:]\n",
    "    return new_string\n",
    "\n",
    "\n",
    "text = \"Python\"\n",
    "index = 2\n",
    "result = remove_character(text, index)\n",
    "print(f\"String after removing character at index {index}:\", result)\n"
   ]
  },
  {
   "attachments": {},
   "cell_type": "markdown",
   "metadata": {},
   "source": [
    "# Q3"
   ]
  },
  {
   "cell_type": "code",
   "execution_count": 3,
   "metadata": {},
   "outputs": [
    {
     "name": "stdout",
     "output_type": "stream",
     "text": [
      "New string after split and join: Python-program-to-split-and-join-a-string\n"
     ]
    }
   ],
   "source": [
    "def split_and_join_string(string, delimiter):\n",
    "    words = string.split(delimiter)\n",
    "    new_string = \"-\".join(words)\n",
    "    return new_string\n",
    "\n",
    "text = \"Python program to split and join a string\"\n",
    "separator = \" \"\n",
    "result = split_and_join_string(text, separator)\n",
    "print(\"New string after split and join:\", result)\n"
   ]
  },
  {
   "attachments": {},
   "cell_type": "markdown",
   "metadata": {},
   "source": [
    "# Q4"
   ]
  },
  {
   "cell_type": "code",
   "execution_count": 4,
   "metadata": {},
   "outputs": [
    {
     "name": "stdout",
     "output_type": "stream",
     "text": [
      "The string is a binary string\n"
     ]
    }
   ],
   "source": [
    "def is_binary_string(string):\n",
    "    for char in string:\n",
    "        if char != \"0\" and char != \"1\":\n",
    "            return False\n",
    "    return True\n",
    "\n",
    "\n",
    "text = \"101010\"\n",
    "result = is_binary_string(text)\n",
    "if result:\n",
    "    print(\"The string is a binary string\")\n",
    "else:\n",
    "    print(\"The string is not a binary string\")\n"
   ]
  },
  {
   "attachments": {},
   "cell_type": "markdown",
   "metadata": {},
   "source": [
    "# Q5"
   ]
  },
  {
   "cell_type": "code",
   "execution_count": 5,
   "metadata": {},
   "outputs": [
    {
     "name": "stdout",
     "output_type": "stream",
     "text": [
      "Uncommon words: {'also', 'great', 'Python', 'popular', 'Java'}\n"
     ]
    }
   ],
   "source": [
    "def find_uncommon_words(string1, string2):\n",
    "    words1 = set(string1.split())\n",
    "    words2 = set(string2.split())\n",
    "    uncommon_words = words1.symmetric_difference(words2)\n",
    "    return uncommon_words\n",
    "\n",
    "# Example usage\n",
    "text1 = \"Python is a great programming language\"\n",
    "text2 = \"Java is also a popular programming language\"\n",
    "result = find_uncommon_words(text1, text2)\n",
    "print(\"Uncommon words:\", result)\n"
   ]
  },
  {
   "attachments": {},
   "cell_type": "markdown",
   "metadata": {},
   "source": [
    "# Q6"
   ]
  },
  {
   "cell_type": "code",
   "execution_count": 6,
   "metadata": {},
   "outputs": [
    {
     "name": "stdout",
     "output_type": "stream",
     "text": [
      "Duplicate characters: ['l', 'o']\n"
     ]
    }
   ],
   "source": [
    "def find_duplicate_chars(string):\n",
    "    duplicate_chars = []\n",
    "    char_count = {}\n",
    "    for char in string:\n",
    "        if char in char_count:\n",
    "            char_count[char] += 1\n",
    "        else:\n",
    "            char_count[char] = 1\n",
    "    for char, count in char_count.items():\n",
    "        if count > 1:\n",
    "            duplicate_chars.append(char)\n",
    "    return duplicate_chars\n",
    "\n",
    "\n",
    "text = \"Hello World\"\n",
    "result = find_duplicate_chars(text)\n",
    "print(\"Duplicate characters:\", result)\n"
   ]
  },
  {
   "attachments": {},
   "cell_type": "markdown",
   "metadata": {},
   "source": [
    "# Q7"
   ]
  },
  {
   "cell_type": "code",
   "execution_count": 7,
   "metadata": {},
   "outputs": [
    {
     "name": "stdout",
     "output_type": "stream",
     "text": [
      "The string contains special characters\n"
     ]
    }
   ],
   "source": [
    "import re\n",
    "\n",
    "def has_special_characters(string):\n",
    "    regex_pattern = r\"[~`!@#$%^&*()+=|\\{}[\\]:;'<>?/]\"\n",
    "    if re.search(regex_pattern, string):\n",
    "        return True\n",
    "    return False\n",
    "\n",
    "text = \"Hello$World!\"\n",
    "result = has_special_characters(text)\n",
    "if result:\n",
    "    print(\"The string contains special characters\")\n",
    "else:\n",
    "    print(\"The string does not contain any special characters\")\n"
   ]
  },
  {
   "cell_type": "code",
   "execution_count": null,
   "metadata": {},
   "outputs": [],
   "source": []
  }
 ],
 "metadata": {
  "kernelspec": {
   "display_name": "Python 3",
   "language": "python",
   "name": "python3"
  },
  "language_info": {
   "codemirror_mode": {
    "name": "ipython",
    "version": 3
   },
   "file_extension": ".py",
   "mimetype": "text/x-python",
   "name": "python",
   "nbconvert_exporter": "python",
   "pygments_lexer": "ipython3",
   "version": "3.11.3"
  },
  "orig_nbformat": 4
 },
 "nbformat": 4,
 "nbformat_minor": 2
}
