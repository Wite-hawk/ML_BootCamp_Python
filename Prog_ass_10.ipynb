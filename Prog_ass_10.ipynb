{
 "cells": [
  {
   "attachments": {},
   "cell_type": "markdown",
   "metadata": {},
   "source": [
    "# Programming_Assignment 10"
   ]
  },
  {
   "attachments": {},
   "cell_type": "markdown",
   "metadata": {},
   "source": [
    "# Q1"
   ]
  },
  {
   "cell_type": "code",
   "execution_count": 1,
   "metadata": {},
   "outputs": [
    {
     "name": "stdout",
     "output_type": "stream",
     "text": [
      "Sum of elements: 15\n"
     ]
    }
   ],
   "source": [
    "def sum_of_elements(lst):\n",
    "    total = 0\n",
    "    for num in lst:\n",
    "        total += num\n",
    "    return total\n",
    "\n",
    "\n",
    "numbers = [1, 2, 3, 4, 5]\n",
    "result = sum_of_elements(numbers)\n",
    "print(\"Sum of elements:\", result)\n"
   ]
  },
  {
   "attachments": {},
   "cell_type": "markdown",
   "metadata": {},
   "source": [
    "# Q2"
   ]
  },
  {
   "cell_type": "code",
   "execution_count": 2,
   "metadata": {},
   "outputs": [
    {
     "name": "stdout",
     "output_type": "stream",
     "text": [
      "Product of numbers: 120\n"
     ]
    }
   ],
   "source": [
    "def multiply_numbers(lst):\n",
    "    result = 1\n",
    "    for num in lst:\n",
    "        result *= num\n",
    "    return result\n",
    "\n",
    "numbers = [1, 2, 3, 4, 5]\n",
    "result = multiply_numbers(numbers)\n",
    "print(\"Product of numbers:\", result)\n"
   ]
  },
  {
   "attachments": {},
   "cell_type": "markdown",
   "metadata": {},
   "source": [
    "# Q3"
   ]
  },
  {
   "cell_type": "code",
   "execution_count": 3,
   "metadata": {},
   "outputs": [
    {
     "name": "stdout",
     "output_type": "stream",
     "text": [
      "Smallest number: 1\n"
     ]
    }
   ],
   "source": [
    "def find_smallest_number(lst):\n",
    "    smallest = lst[0]\n",
    "    for num in lst:\n",
    "        if num < smallest:\n",
    "            smallest = num\n",
    "    return smallest\n",
    "\n",
    "numbers = [5, 2, 8, 1, 4]\n",
    "result = find_smallest_number(numbers)\n",
    "print(\"Smallest number:\", result)\n"
   ]
  },
  {
   "attachments": {},
   "cell_type": "markdown",
   "metadata": {},
   "source": [
    "# Q4"
   ]
  },
  {
   "cell_type": "code",
   "execution_count": 4,
   "metadata": {},
   "outputs": [
    {
     "name": "stdout",
     "output_type": "stream",
     "text": [
      "Largest number: 8\n"
     ]
    }
   ],
   "source": [
    "def find_largest_number(lst):\n",
    "    largest = lst[0]\n",
    "    for num in lst:\n",
    "        if num > largest:\n",
    "            largest = num\n",
    "    return largest\n",
    "\n",
    "numbers = [5, 2, 8, 1, 4]\n",
    "result = find_largest_number(numbers)\n",
    "print(\"Largest number:\", result)\n"
   ]
  },
  {
   "attachments": {},
   "cell_type": "markdown",
   "metadata": {},
   "source": [
    "# Q5"
   ]
  },
  {
   "cell_type": "code",
   "execution_count": 5,
   "metadata": {},
   "outputs": [
    {
     "name": "stdout",
     "output_type": "stream",
     "text": [
      "Second largest number: 5\n"
     ]
    }
   ],
   "source": [
    "def find_second_largest_number(lst):\n",
    "    largest = max(lst)\n",
    "    second_largest = min(lst)\n",
    "    for num in lst:\n",
    "        if num > second_largest and num < largest:\n",
    "            second_largest = num\n",
    "    return second_largest\n",
    "\n",
    "\n",
    "numbers = [5, 2, 8, 1, 4]\n",
    "result = find_second_largest_number(numbers)\n",
    "print(\"Second largest number:\", result)\n"
   ]
  },
  {
   "attachments": {},
   "cell_type": "markdown",
   "metadata": {},
   "source": [
    "# Q6"
   ]
  },
  {
   "cell_type": "code",
   "execution_count": 6,
   "metadata": {},
   "outputs": [
    {
     "name": "stdout",
     "output_type": "stream",
     "text": [
      "3 largest elements: [9, 8, 5]\n"
     ]
    }
   ],
   "source": [
    "def find_n_largest_elements(lst, n):\n",
    "    sorted_lst = sorted(lst, reverse=True)\n",
    "    return sorted_lst[:n]\n",
    "\n",
    "numbers = [5, 2, 8, 1, 4, 9, 3]\n",
    "n = 3\n",
    "result = find_n_largest_elements(numbers, n)\n",
    "print(f\"{n} largest elements:\", result)\n"
   ]
  },
  {
   "attachments": {},
   "cell_type": "markdown",
   "metadata": {},
   "source": [
    "# Q7"
   ]
  },
  {
   "cell_type": "code",
   "execution_count": 7,
   "metadata": {},
   "outputs": [
    {
     "name": "stdout",
     "output_type": "stream",
     "text": [
      "Even numbers: [2, 8, 4]\n"
     ]
    }
   ],
   "source": [
    "def print_even_numbers(lst):\n",
    "    even_nums = [num for num in lst if num % 2 == 0]\n",
    "    return even_nums\n",
    "\n",
    "\n",
    "numbers = [5, 2, 8, 1, 4, 9, 3]\n",
    "result = print_even_numbers(numbers)\n",
    "print(\"Even numbers:\", result)\n"
   ]
  },
  {
   "attachments": {},
   "cell_type": "markdown",
   "metadata": {},
   "source": [
    "# Q8"
   ]
  },
  {
   "cell_type": "code",
   "execution_count": 8,
   "metadata": {},
   "outputs": [
    {
     "name": "stdout",
     "output_type": "stream",
     "text": [
      "Odd numbers: [5, 1, 9, 3]\n"
     ]
    }
   ],
   "source": [
    "def print_odd_numbers(lst):\n",
    "    odd_nums = [num for num in lst if num % 2 != 0]\n",
    "    return odd_nums\n",
    "\n",
    "\n",
    "numbers = [5, 2, 8, 1, 4, 9, 3]\n",
    "result = print_odd_numbers(numbers)\n",
    "print(\"Odd numbers:\", result)\n"
   ]
  },
  {
   "attachments": {},
   "cell_type": "markdown",
   "metadata": {},
   "source": [
    "# Q9"
   ]
  },
  {
   "cell_type": "code",
   "execution_count": 9,
   "metadata": {},
   "outputs": [
    {
     "name": "stdout",
     "output_type": "stream",
     "text": [
      "List after removing empty lists: [1, [3, 4], [5, 6, 7]]\n"
     ]
    }
   ],
   "source": [
    "def remove_empty_lists(lst):\n",
    "    non_empty_lists = [sublist for sublist in lst if sublist]\n",
    "    return non_empty_lists\n",
    "\n",
    "my_list = [1, [], [3, 4], [], [], [5, 6, 7]]\n",
    "result = remove_empty_lists(my_list)\n",
    "print(\"List after removing empty lists:\", result)\n"
   ]
  },
  {
   "attachments": {},
   "cell_type": "markdown",
   "metadata": {},
   "source": [
    "# Q 10"
   ]
  },
  {
   "cell_type": "code",
   "execution_count": 10,
   "metadata": {},
   "outputs": [
    {
     "name": "stdout",
     "output_type": "stream",
     "text": [
      "Original list: [1, 2, 3, 4, 5]\n",
      "Cloned list: [1, 2, 3, 4, 5]\n"
     ]
    }
   ],
   "source": [
    "def clone_list(lst):\n",
    "    cloned_lst = lst.copy()\n",
    "    return cloned_lst\n",
    "\n",
    "original_list = [1, 2, 3, 4, 5]\n",
    "cloned_list = clone_list(original_list)\n",
    "print(\"Original list:\", original_list)\n",
    "print(\"Cloned list:\", cloned_list)\n"
   ]
  },
  {
   "attachments": {},
   "cell_type": "markdown",
   "metadata": {},
   "source": [
    "# Q11"
   ]
  },
  {
   "cell_type": "code",
   "execution_count": 11,
   "metadata": {},
   "outputs": [
    {
     "name": "stdout",
     "output_type": "stream",
     "text": [
      "Number of occurrences of 2: 3\n"
     ]
    }
   ],
   "source": [
    "def count_occurrences(lst, element):\n",
    "    count = lst.count(element)\n",
    "    return count\n",
    "\n",
    "numbers = [1, 2, 3, 2, 4, 2, 5]\n",
    "element = 2\n",
    "result = count_occurrences(numbers, element)\n",
    "print(f\"Number of occurrences of {element}:\", result)\n"
   ]
  },
  {
   "cell_type": "code",
   "execution_count": null,
   "metadata": {},
   "outputs": [],
   "source": []
  }
 ],
 "metadata": {
  "kernelspec": {
   "display_name": "Python 3",
   "language": "python",
   "name": "python3"
  },
  "language_info": {
   "codemirror_mode": {
    "name": "ipython",
    "version": 3
   },
   "file_extension": ".py",
   "mimetype": "text/x-python",
   "name": "python",
   "nbconvert_exporter": "python",
   "pygments_lexer": "ipython3",
   "version": "3.11.3"
  },
  "orig_nbformat": 4
 },
 "nbformat": 4,
 "nbformat_minor": 2
}
