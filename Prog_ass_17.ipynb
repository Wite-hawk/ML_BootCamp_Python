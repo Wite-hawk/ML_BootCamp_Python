{
 "cells": [
  {
   "attachments": {},
   "cell_type": "markdown",
   "metadata": {},
   "source": [
    "# Programming_Assignment 17"
   ]
  },
  {
   "attachments": {},
   "cell_type": "markdown",
   "metadata": {},
   "source": [
    "# Q1"
   ]
  },
  {
   "cell_type": "code",
   "execution_count": 7,
   "metadata": {},
   "outputs": [
    {
     "name": "stdout",
     "output_type": "stream",
     "text": [
      "0\n",
      "30\n",
      "18\n"
     ]
    }
   ],
   "source": [
    "def evenly_divisible(a, b, c):\n",
    "    sum = 0\n",
    "    for num in range(a, b+1):\n",
    "        if num % c == 0:\n",
    "            sum += num\n",
    "    return sum\n",
    "\n",
    "\n",
    "print(evenly_divisible(1, 10, 20))  \n",
    "print(evenly_divisible(1, 10, 2))  \n",
    "print(evenly_divisible(1, 10, 3))  \n"
   ]
  },
  {
   "attachments": {},
   "cell_type": "markdown",
   "metadata": {},
   "source": [
    "# Q2"
   ]
  },
  {
   "cell_type": "code",
   "execution_count": 8,
   "metadata": {},
   "outputs": [
    {
     "name": "stdout",
     "output_type": "stream",
     "text": [
      "True\n",
      "False\n",
      "True\n"
     ]
    }
   ],
   "source": [
    "def correct_signs(expression):\n",
    "    return eval(expression)\n",
    "\n",
    "print(correct_signs(\"3 < 7 < 11\"))  \n",
    "print(correct_signs(\"13 > 44 > 33 > 1\"))\n",
    "print(correct_signs(\"1 < 2 < 6 < 9 > 3\")) \n"
   ]
  },
  {
   "attachments": {},
   "cell_type": "markdown",
   "metadata": {},
   "source": [
    "# Q3"
   ]
  },
  {
   "cell_type": "code",
   "execution_count": 9,
   "metadata": {},
   "outputs": [
    {
     "name": "stdout",
     "output_type": "stream",
     "text": [
      "th# ##rdv#rk\n",
      "m?nn?? m??s?\n",
      "sh*k*sp**r*\n"
     ]
    }
   ],
   "source": [
    "def replace_vowels(string, char):\n",
    "    vowels = 'aeiouAEIOU'\n",
    "    replaced_string = ''\n",
    "    for ch in string:\n",
    "        if ch in vowels:\n",
    "            replaced_string += char\n",
    "        else:\n",
    "            replaced_string += ch\n",
    "    return replaced_string\n",
    "\n",
    "print(replace_vowels(\"the aardvark\", \"#\"))  \n",
    "print(replace_vowels(\"minnie mouse\", \"?\"))  \n",
    "print(replace_vowels(\"shakespeare\", \"*\"))  \n"
   ]
  },
  {
   "attachments": {},
   "cell_type": "markdown",
   "metadata": {},
   "source": [
    "# Q4"
   ]
  },
  {
   "cell_type": "code",
   "execution_count": 10,
   "metadata": {},
   "outputs": [
    {
     "name": "stdout",
     "output_type": "stream",
     "text": [
      "120\n",
      "6\n",
      "1\n",
      "1\n"
     ]
    }
   ],
   "source": [
    "def factorial(n):\n",
    "    if n == 0 or n == 1:\n",
    "        return 1\n",
    "    else:\n",
    "        return n * factorial(n - 1)\n",
    "\n",
    "print(factorial(5))  \n",
    "print(factorial(3))  \n",
    "print(factorial(1))  \n",
    "print(factorial(0))  \n"
   ]
  },
  {
   "attachments": {},
   "cell_type": "markdown",
   "metadata": {},
   "source": [
    "# Q5"
   ]
  },
  {
   "cell_type": "code",
   "execution_count": 11,
   "metadata": {},
   "outputs": [
    {
     "name": "stdout",
     "output_type": "stream",
     "text": [
      "5\n",
      "0\n",
      "1\n"
     ]
    }
   ],
   "source": [
    "def hamming_distance(str1, str2):\n",
    "    distance = 0\n",
    "    for ch1, ch2 in zip(str1, str2):\n",
    "        if ch1 != ch2:\n",
    "            distance += 1\n",
    "    return distance\n",
    "\n",
    "print(hamming_distance(\"abcde\", \"bcdef\"))\n",
    "print(hamming_distance(\"abcde\", \"abcde\"))  \n",
    "print(hamming_distance(\"strong\", \"strung\"))  \n"
   ]
  },
  {
   "cell_type": "code",
   "execution_count": null,
   "metadata": {},
   "outputs": [],
   "source": []
  }
 ],
 "metadata": {
  "kernelspec": {
   "display_name": "Python 3",
   "language": "python",
   "name": "python3"
  },
  "language_info": {
   "codemirror_mode": {
    "name": "ipython",
    "version": 3
   },
   "file_extension": ".py",
   "mimetype": "text/x-python",
   "name": "python",
   "nbconvert_exporter": "python",
   "pygments_lexer": "ipython3",
   "version": "3.11.3"
  },
  "orig_nbformat": 4
 },
 "nbformat": 4,
 "nbformat_minor": 2
}
