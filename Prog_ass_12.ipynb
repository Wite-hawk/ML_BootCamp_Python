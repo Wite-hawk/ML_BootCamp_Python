{
 "cells": [
  {
   "attachments": {},
   "cell_type": "markdown",
   "metadata": {},
   "source": [
    "# Programming_Assignment 12"
   ]
  },
  {
   "attachments": {},
   "cell_type": "markdown",
   "metadata": {},
   "source": [
    "# Q1"
   ]
  },
  {
   "cell_type": "code",
   "execution_count": 1,
   "metadata": {},
   "outputs": [
    {
     "name": "stdout",
     "output_type": "stream",
     "text": [
      "Unique values: [1, 2, 3, 4, 5]\n"
     ]
    }
   ],
   "source": [
    "def extract_unique_values(dictionary):\n",
    "    unique_values = set()\n",
    "    for values in dictionary.values():\n",
    "        unique_values.update(values)\n",
    "    return list(unique_values)\n",
    "\n",
    "my_dict = {'a': [1, 2, 3], 'b': [2, 3, 4], 'c': [3, 4, 5]}\n",
    "result = extract_unique_values(my_dict)\n",
    "print(\"Unique values:\", result)\n"
   ]
  },
  {
   "attachments": {},
   "cell_type": "markdown",
   "metadata": {},
   "source": [
    "# Q2"
   ]
  },
  {
   "cell_type": "code",
   "execution_count": 2,
   "metadata": {},
   "outputs": [
    {
     "name": "stdout",
     "output_type": "stream",
     "text": [
      "Sum of dictionary items: 60\n"
     ]
    }
   ],
   "source": [
    "def sum_dictionary_items(dictionary):\n",
    "    total_sum = sum(dictionary.values())\n",
    "    return total_sum\n",
    "\n",
    "my_dict = {'a': 10, 'b': 20, 'c': 30}\n",
    "result = sum_dictionary_items(my_dict)\n",
    "print(\"Sum of dictionary items:\", result)\n"
   ]
  },
  {
   "attachments": {},
   "cell_type": "markdown",
   "metadata": {},
   "source": [
    "# Q3"
   ]
  },
  {
   "cell_type": "code",
   "execution_count": 3,
   "metadata": {},
   "outputs": [
    {
     "name": "stdout",
     "output_type": "stream",
     "text": [
      "Merged dictionary: {'a': 10, 'b': 20, 'c': 30, 'd': 40}\n"
     ]
    }
   ],
   "source": [
    "def merge_dictionaries(dict1, dict2):\n",
    "    merged_dict = {**dict1, **dict2}\n",
    "    return merged_dict\n",
    "\n",
    "dict1 = {'a': 10, 'b': 20}\n",
    "dict2 = {'c': 30, 'd': 40}\n",
    "result = merge_dictionaries(dict1, dict2)\n",
    "print(\"Merged dictionary:\", result)\n"
   ]
  },
  {
   "attachments": {},
   "cell_type": "markdown",
   "metadata": {},
   "source": [
    "# Q4"
   ]
  },
  {
   "cell_type": "code",
   "execution_count": 4,
   "metadata": {},
   "outputs": [
    {
     "name": "stdout",
     "output_type": "stream",
     "text": [
      "Flat dictionary: {'a': 1, 'b': 2, 'c': 3}\n"
     ]
    }
   ],
   "source": [
    "def convert_to_flat_dictionary(keys, values):\n",
    "    flat_dict = dict(zip(keys, values))\n",
    "    return flat_dict\n",
    "\n",
    "keys = ['a', 'b', 'c']\n",
    "values = [1, 2, 3]\n",
    "result = convert_to_flat_dictionary(keys, values)\n",
    "print(\"Flat dictionary:\", result)\n"
   ]
  },
  {
   "attachments": {},
   "cell_type": "markdown",
   "metadata": {},
   "source": [
    "# Q5"
   ]
  },
  {
   "cell_type": "code",
   "execution_count": 8,
   "metadata": {},
   "outputs": [
    {
     "name": "stdout",
     "output_type": "stream",
     "text": [
      "Modified OrderedDict: OrderedDict([('a', 1), ('b', 2), ('c', 3), ('x', 10)])\n"
     ]
    }
   ],
   "source": [
    "from collections import OrderedDict\n",
    "\n",
    "def insert_at_beginning(dictionary, key, value):\n",
    "    if key in dictionary:\n",
    "        dictionary.move_to_end(key, last=False)\n",
    "        dictionary[key] = value\n",
    "    else:\n",
    "        dictionary[key] = value\n",
    "\n",
    "my_dict = OrderedDict([('a', 1), ('b', 2), ('c', 3)])\n",
    "insert_at_beginning(my_dict, 'x', 10)\n",
    "print(\"Modified OrderedDict:\", my_dict)\n"
   ]
  },
  {
   "attachments": {},
   "cell_type": "markdown",
   "metadata": {},
   "source": [
    "# Q6"
   ]
  },
  {
   "cell_type": "code",
   "execution_count": 9,
   "metadata": {},
   "outputs": [
    {
     "name": "stdout",
     "output_type": "stream",
     "text": [
      "Order of characters in string: False\n"
     ]
    }
   ],
   "source": [
    "from collections import OrderedDict\n",
    "\n",
    "def check_order_of_characters(string):\n",
    "    unique_chars = OrderedDict.fromkeys(string)\n",
    "    ordered_chars = ''.join(unique_chars.keys())\n",
    "\n",
    "    return ordered_chars == string\n",
    "\n",
    "input_string = 'hello'\n",
    "result = check_order_of_characters(input_string)\n",
    "print(\"Order of characters in string:\", result)\n"
   ]
  },
  {
   "attachments": {},
   "cell_type": "markdown",
   "metadata": {},
   "source": [
    "# Q7"
   ]
  },
  {
   "cell_type": "code",
   "execution_count": 10,
   "metadata": {},
   "outputs": [
    {
     "name": "stdout",
     "output_type": "stream",
     "text": [
      "Sorted dictionary by key: [('a', 1), ('b', 2), ('c', 3)]\n",
      "Sorted dictionary by value: [('a', 1), ('b', 2), ('c', 3)]\n"
     ]
    }
   ],
   "source": [
    "# Sorting by key\n",
    "my_dict = {'c': 3, 'a': 1, 'b': 2}\n",
    "sorted_dict_by_key = sorted(my_dict.items())\n",
    "print(\"Sorted dictionary by key:\", sorted_dict_by_key)\n",
    "\n",
    "# Sorting by values\n",
    "my_dict = {'c': 3, 'a': 1, 'b': 2}\n",
    "sorted_dict_by_value = sorted(my_dict.items(), key=lambda x: x[1])\n",
    "print(\"Sorted dictionary by value:\", sorted_dict_by_value)\n"
   ]
  },
  {
   "cell_type": "code",
   "execution_count": null,
   "metadata": {},
   "outputs": [],
   "source": []
  }
 ],
 "metadata": {
  "kernelspec": {
   "display_name": "Python 3",
   "language": "python",
   "name": "python3"
  },
  "language_info": {
   "codemirror_mode": {
    "name": "ipython",
    "version": 3
   },
   "file_extension": ".py",
   "mimetype": "text/x-python",
   "name": "python",
   "nbconvert_exporter": "python",
   "pygments_lexer": "ipython3",
   "version": "3.11.3"
  },
  "orig_nbformat": 4
 },
 "nbformat": 4,
 "nbformat_minor": 2
}
